{
 "cells": [
  {
   "cell_type": "code",
   "execution_count": 1,
   "metadata": {},
   "outputs": [],
   "source": [
    "import pandas as pd\n",
    "import re\n",
    "from sklearn.feature_extraction.text import CountVectorizer\n",
    "from sklearn.feature_extraction.text import TfidfTransformer\n",
    "from sklearn.naive_bayes import MultinomialNB\n",
    "from sklearn.externals import joblib"
   ]
  },
  {
   "cell_type": "code",
   "execution_count": 2,
   "metadata": {},
   "outputs": [],
   "source": [
    "#function definition\n",
    "def clean_tweet(tweet):#function used to clean a single tweet\n",
    "    tweet = str(tweet)\n",
    "    tweet = re.sub(\"(http:\\/\\/)[^ ]*\",\"\",tweet)\n",
    "    tweet = tweet.replace(\"&amp;\",\"\")\n",
    "    tweet = re.sub(\"[^\\w\\s]\",\"\",tweet)\n",
    "    tweet = re.sub(\"[\\d]\",\"\",tweet)\n",
    "    tweet = tweet.lower()\n",
    "    return tweet\n",
    "\n",
    "def comment_prediction(model, comment, count_vect, tfidf_transformer):\n",
    "    test_data_counts = count_vect.transform([clean_tweet(comment)])\n",
    "    test_data_tfidf = tfidf_transformer.transform(test_data_counts)\n",
    "    predicted = model.predict(test_data_tfidf)\n",
    "    return predicted"
   ]
  },
  {
   "cell_type": "code",
   "execution_count": 3,
   "metadata": {},
   "outputs": [
    {
     "name": "stderr",
     "output_type": "stream",
     "text": [
      "C:\\Users\\Bamouh Mohamed\\AppData\\Local\\conda\\conda\\envs\\Projectenv\\lib\\site-packages\\sklearn\\base.py:251: UserWarning: Trying to unpickle estimator MultinomialNB from version 0.20.1 when using version 0.20.2. This might lead to breaking code or invalid results. Use at your own risk.\n",
      "  UserWarning)\n",
      "C:\\Users\\Bamouh Mohamed\\AppData\\Local\\conda\\conda\\envs\\Projectenv\\lib\\site-packages\\sklearn\\base.py:251: UserWarning: Trying to unpickle estimator CountVectorizer from version 0.20.1 when using version 0.20.2. This might lead to breaking code or invalid results. Use at your own risk.\n",
      "  UserWarning)\n",
      "C:\\Users\\Bamouh Mohamed\\AppData\\Local\\conda\\conda\\envs\\Projectenv\\lib\\site-packages\\sklearn\\base.py:251: UserWarning: Trying to unpickle estimator TfidfTransformer from version 0.20.1 when using version 0.20.2. This might lead to breaking code or invalid results. Use at your own risk.\n",
      "  UserWarning)\n"
     ]
    }
   ],
   "source": [
    "#LOAD MODELS\n",
    "model = joblib.load('finalized_model.sav')\n",
    "count_vect = joblib.load('finalized_countvectorizer.sav')\n",
    "tfidf_transformer = joblib.load('finalized_tfidftransformer.sav')"
   ]
  },
  {
   "cell_type": "code",
   "execution_count": 6,
   "metadata": {},
   "outputs": [
    {
     "name": "stdout",
     "output_type": "stream",
     "text": [
      "Commentaire toxique\n"
     ]
    }
   ],
   "source": [
    "#PREDICTION DE TOXICITE DE COMMENTAIRE\n",
    "toxicite = comment_prediction(model, \"give me a fuck java user you stupid chatbot\", count_vect, tfidf_transformer)\n",
    "if toxicite == 0 :\n",
    "    print(\"Commentaire non toxique\")\n",
    "elif toxicite == 1:\n",
    "    print(\"Commentaire toxique\")\n",
    "elif toxicite == 2:\n",
    "    print(\"Commentaire insultant\")\n"
   ]
  },
  {
   "cell_type": "code",
   "execution_count": null,
   "metadata": {},
   "outputs": [],
   "source": []
  }
 ],
 "metadata": {
  "kernelspec": {
   "display_name": "Python 3",
   "language": "python",
   "name": "python3"
  },
  "language_info": {
   "codemirror_mode": {
    "name": "ipython",
    "version": 3
   },
   "file_extension": ".py",
   "mimetype": "text/x-python",
   "name": "python",
   "nbconvert_exporter": "python",
   "pygments_lexer": "ipython3",
   "version": "3.6.7"
  }
 },
 "nbformat": 4,
 "nbformat_minor": 2
}
